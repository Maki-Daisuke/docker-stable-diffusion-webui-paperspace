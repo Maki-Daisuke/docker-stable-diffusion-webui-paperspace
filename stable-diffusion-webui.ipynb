{
 "cells": [
  {
   "cell_type": "markdown",
   "id": "dd1804df-9c31-4fe7-aa29-476a068a165f",
   "metadata": {},
   "source": [
    "## Run Stable Diffusion WebUI now!\n",
    "\n",
    "If you want to run SD WebUI right now, run the following cell.\n",
    "In this way, however, your settings will be lost when stopping your machine.\n",
    "The recommended way is described below."
   ]
  },
  {
   "cell_type": "code",
   "execution_count": null,
   "id": "3b969ec7-ebc1-4b34-81b9-4df05bafd9cb",
   "metadata": {},
   "outputs": [],
   "source": [
    "%cd /root/stable-diffusion-webui\n",
    "!python3 webui.py --share --theme=dark --opt-sdp-attention --opt-sdp-no-mem-attention"
   ]
  },
  {
   "cell_type": "markdown",
   "id": "fba48e2d-18a7-4922-9c27-cba20c69473c",
   "metadata": {},
   "source": [
    "## Setup or Update your SD WebUI in your Notebook"
   ]
  },
  {
   "cell_type": "markdown",
   "id": "cde45203-18ea-4acf-aaa8-8dfca2e4a73d",
   "metadata": {},
   "source": [
    "Change or leave `save_dir` as you like and then run the following cell.\n",
    "You need to run this step only the first time you use this notebook.\n",
    "After the second time, this step will update the webui and its extensions \n",
    "to the latest."
   ]
  },
  {
   "cell_type": "code",
   "execution_count": null,
   "id": "666b9157-bf79-42f8-821b-5936b2d63d12",
   "metadata": {},
   "outputs": [],
   "source": [
    "save_dir = \"/storage/sd-webui-files\"  # directory to persistently save your models and outpus\n",
    "embeddings_dir = save_dir + \"/embeddings\"\n",
    "models_dir     = save_dir + \"/models\"\n",
    "outputs_dir    = save_dir + \"/outputs\"\n",
    "\n",
    "\n",
    "import os\n",
    "%cd /notebooks\n",
    "\n",
    "# Make symlink for handy access to /storage\n",
    "![ -e storage ] || ln -s /storage /notebooks/storage \n",
    "\n",
    "# Clone and update SD-webui repository\n",
    "![ -d stable-diffusion-webui ] || git clone --depth 1 https://github.com/AUTOMATIC1111/stable-diffusion-webui.git\n",
    "%cd stable-diffusion-webui\n",
    "!git pull\n",
    "\n",
    "# Replace embeddings, outputs and models directories with symlinks,\n",
    "# so that models and generated images are saved in a persistent storage.\n",
    "if not os.path.islink(\"embeddings\"):\n",
    "    !mkdir -p `dirname \"$embeddings_dir\"`\n",
    "    ![ -d embeddings ] && [ ! -e \"$embeddings_dir\" ] && mv embeddings \"$embeddings_dir\"\n",
    "    ![ ! -e \"$embeddings_dir\" ] && mkdir -p \"$embeddings_dir\"\n",
    "    ![ -e embeddings ] && rm -rf embeddings\n",
    "    !ln -s \"$embeddings_dir\" embeddings\n",
    "if not os.path.islink(\"models\"):\n",
    "    !mkdir -p `dirname \"$models_dir\"`\n",
    "    ![ -d models ] && [ ! -e \"$models_dir\" ] && mv models \"$models_dir\"\n",
    "    ![ ! -e \"$models_dir\" ] && mkdir -p \"$models_dir\"\n",
    "    ![ -e models ] && rm -rf models\n",
    "    !ln -s \"$models_dir\" models\n",
    "if not os.path.islink(\"outputs\"):\n",
    "    !mkdir -p `dirname \"$outputs_dir\"`\n",
    "    ![ -d outputs ] && [ ! -e \"$outputs_dir\" ] && mv outputs \"$outputs_dir\"\n",
    "    ![ ! -e \"$outputs_dir\" ] && mkdir -p \"$outputs_dir\"\n",
    "    ![ -e outputs ] && rm -rf outputs\n",
    "    !ln -s \"$outputs_dir\" outputs\n",
    "\n",
    "# Install recommended extensions\n",
    "%cd /notebooks/stable-diffusion-webui/extensions\n",
    "![ -e civitai                 ] || git clone --depth 1 https://github.com/civitai/sd_civitai_extension.git civitai\n",
    "![ -e tagcomplete             ] || git clone --depth 1 https://github.com/DominikDoom/a1111-sd-webui-tagcomplete.git tagcomplete\n",
    "![ -e infinite-image-browsing ] || git clone --depth 1 https://github.com/zanllp/sd-webui-infinite-image-browsing.git infinite-image-browsing\n",
    "![ -e controlnet              ] || git clone --depth 1 https://github.com/Mikubill/sd-webui-controlnet.git controlnet\n",
    "\n",
    "# Update extensions\n",
    "for name in glob.glob('*'):\n",
    "    if os.path.isdir(name):\n",
    "        !cd \"$name\" && git pull\n"
   ]
  },
  {
   "cell_type": "markdown",
   "id": "9170bddc-0385-4cf0-8df9-bb93c100df95",
   "metadata": {},
   "source": [
    "## Run Stable Diffusion WebUI\n",
    "\n",
    "Once your SD WebUI is setup, run the following cell. Good luck!"
   ]
  },
  {
   "cell_type": "code",
   "execution_count": null,
   "id": "d8de9c19-8c02-44af-acc2-3cbb3840b61b",
   "metadata": {},
   "outputs": [],
   "source": [
    "%cd /notebooks/stable-diffusion-webui\n",
    "!ACCELERATE=\"True\" COMMANDLINE_ARGS=\"--theme=dark --share --opt-sdp-attention --opt-sdp-no-mem-attention\" ./webui.sh -f"
   ]
  }
 ],
 "metadata": {
  "kernelspec": {
   "display_name": "Python 3 (ipykernel)",
   "language": "python",
   "name": "python3"
  },
  "language_info": {
   "codemirror_mode": {
    "name": "ipython",
    "version": 3
   },
   "file_extension": ".py",
   "mimetype": "text/x-python",
   "name": "python",
   "nbconvert_exporter": "python",
   "pygments_lexer": "ipython3",
   "version": "3.10.12"
  }
 },
 "nbformat": 4,
 "nbformat_minor": 5
}
